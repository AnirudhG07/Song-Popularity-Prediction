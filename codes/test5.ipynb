{
 "cells": [
  {
   "cell_type": "code",
   "execution_count": 6,
   "id": "e39960fd",
   "metadata": {},
   "outputs": [
    {
     "name": "stdout",
     "output_type": "stream",
     "text": [
      "Fitting pipeline on training data...\n"
     ]
    }
   ],
   "source": [
    "# polynomial_pipeline_cpu.py\n",
    "import pandas as pd\n",
    "import numpy as np\n",
    "from sklearn.impute import KNNImputer, SimpleImputer\n",
    "from sklearn.preprocessing import StandardScaler, OneHotEncoder, PolynomialFeatures\n",
    "from sklearn.compose import ColumnTransformer\n",
    "from sklearn.pipeline import Pipeline\n",
    "from sklearn.linear_model import RidgeCV\n",
    "from sklearn.model_selection import GridSearchCV\n",
    "from sklearn.metrics import roc_auc_score, accuracy_score\n",
    "import joblib\n",
    "\n",
    "# --- CONFIG ---\n",
    "POLY_DEGREE = 2            # try 2 or 3 (higher -> explosion of features)\n",
    "ALPHA_CV = [0.01, 0.1, 1.0, 10.0]  # Ridge regularization grid\n",
    "RANDOM_STATE = 42\n",
    "\n",
    "# --- Load data ---\n",
    "train = pd.read_csv(\"./data/train.csv\")   # ensure train.csv has 'song_popularity' and 'id'\n",
    "test = pd.read_csv(\"./data/test.csv\")     # ensure test.csv has 'id' column\n",
    "\n",
    "# --- Separate ---\n",
    "y = train[\"song_popularity\"].values\n",
    "X = train.drop(columns=[\"song_popularity\"])\n",
    "test_ids = test[\"id\"].values\n",
    "X_test = test.copy()\n",
    "\n",
    "# --- Column lists (adjust to your dataset's column names) ---\n",
    "num_cols = [\"song_duration_ms\",\"acousticness\",\"danceability\",\"energy\",\n",
    "            \"instrumentalness\",\"liveness\",\"loudness\",\"speechiness\",\n",
    "            \"tempo\",\"audio_valence\"]\n",
    "cat_cols = [\"key\",\"audio_mode\",\"time_signature\"]  # numeric-coded categoricals\n",
    "\n",
    "# If some listed columns don't exist, adjust lists automatically:\n",
    "num_cols = [c for c in num_cols if c in X.columns]\n",
    "cat_cols = [c for c in cat_cols if c in X.columns]\n",
    "\n",
    "# --- Preprocessing ---\n",
    "num_transformer = Pipeline([\n",
    "    (\"imputer\", KNNImputer(n_neighbors=5)),\n",
    "    (\"scaler\", StandardScaler())\n",
    "])\n",
    "\n",
    "cat_transformer = Pipeline([\n",
    "    (\"imputer\", SimpleImputer(strategy=\"most_frequent\")),\n",
    "    (\"onehot\", OneHotEncoder(handle_unknown=\"ignore\", sparse_output=False))\n",
    "])\n",
    "\n",
    "preprocessor = ColumnTransformer([\n",
    "    (\"num\", num_transformer, num_cols),\n",
    "    (\"cat\", cat_transformer, cat_cols)\n",
    "], remainder=\"drop\")\n",
    "\n",
    "# --- Full pipeline: preprocess -> poly features -> ridge ---\n",
    "full_pipeline = Pipeline([\n",
    "    (\"preproc\", preprocessor),\n",
    "    (\"poly\", PolynomialFeatures(degree=POLY_DEGREE, include_bias=False)),\n",
    "    (\"reg\", RidgeCV(alphas=ALPHA_CV, cv=5, scoring=\"neg_mean_squared_error\"))\n",
    "])\n",
    "\n",
    "# Fit pipeline on training data\n",
    "print(\"Fitting pipeline on training data...\")\n",
    "full_pipeline.fit(X, y)\n",
    "\n",
    "# Predict continuous values on training set\n",
    "y_pred_cont = full_pipeline.predict(X)\n",
    "\n",
    "# Evaluate (optional)"
   ]
  },
  {
   "cell_type": "code",
   "execution_count": 9,
   "id": "ecb20464",
   "metadata": {},
   "outputs": [
    {
     "name": "stdout",
     "output_type": "stream",
     "text": [
      "Train ROC-AUC: 0.586232, Best Threshold: 0.399859, Accuracy: 0.604067\n"
     ]
    }
   ],
   "source": [
    "import numpy as np\n",
    "from sklearn.metrics import roc_auc_score, accuracy_score\n",
    "\n",
    "def find_best_threshold(y_true, y_scores, start=0.30, end=0.45, step=1e-6):\n",
    "    \"\"\"\n",
    "    Search for best threshold in [start, end] with high precision (default step=1e-6).\n",
    "    Returns (best_threshold, best_accuracy).\n",
    "    \"\"\"\n",
    "    thresholds = np.arange(start, end, step)\n",
    "    best_thresh = 0.5\n",
    "    best_acc = 0\n",
    "    \n",
    "    for thresh in thresholds:\n",
    "        preds = (y_scores > thresh).astype(int)\n",
    "        acc = accuracy_score(y_true, preds)\n",
    "        if acc > best_acc:\n",
    "            best_acc = acc\n",
    "            best_thresh = thresh\n",
    "    \n",
    "    return best_thresh, best_acc\n",
    "\n",
    "# --- Usage ---\n",
    "try:\n",
    "    auc = roc_auc_score(y, y_pred_cont)\n",
    "    best_thresh, best_acc = find_best_threshold(y, y_pred_cont, start=0.35, end=0.40, step=1e-6)\n",
    "    thresh_preds = (y_pred_cont > best_thresh).astype(int)\n",
    "    print(f\"Train ROC-AUC: {auc:.6f}, Best Threshold: {best_thresh:.6f}, Accuracy: {best_acc:.6f}\")\n",
    "except Exception as e:\n",
    "    print(\"Evaluation skipped:\", e)\n",
    "\n",
    "THRESHOLD = best_thresh  # Set global threshold for test predictions\n"
   ]
  },
  {
   "cell_type": "code",
   "execution_count": 10,
   "id": "9e7b8912",
   "metadata": {},
   "outputs": [
    {
     "name": "stdout",
     "output_type": "stream",
     "text": [
      "Transforming & predicting test set...\n",
      "✅ Saved submission.csv\n"
     ]
    }
   ],
   "source": [
    "# Predict on test\n",
    "print(\"Transforming & predicting test set...\")\n",
    "test_pred_cont = full_pipeline.predict(X_test)\n",
    "\n",
    "# Apply threshold\n",
    "test_pred_bin = (test_pred_cont > THRESHOLD).astype(int)\n",
    "\n",
    "# Save submission\n",
    "submission = pd.DataFrame({\n",
    "    \"id\": test_ids,\n",
    "    \"song_popularity\": test_pred_bin\n",
    "})\n",
    "submission.to_csv(\"./data/submission.csv\", index=False)\n",
    "print(\"✅ Saved submission.csv\")"
   ]
  }
 ],
 "metadata": {
  "kernelspec": {
   "display_name": "kaggle1",
   "language": "python",
   "name": "python3"
  },
  "language_info": {
   "codemirror_mode": {
    "name": "ipython",
    "version": 3
   },
   "file_extension": ".py",
   "mimetype": "text/x-python",
   "name": "python",
   "nbconvert_exporter": "python",
   "pygments_lexer": "ipython3",
   "version": "3.12.8"
  }
 },
 "nbformat": 4,
 "nbformat_minor": 5
}
